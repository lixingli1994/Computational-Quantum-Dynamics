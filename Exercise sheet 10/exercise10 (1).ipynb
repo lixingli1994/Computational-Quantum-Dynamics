{
 "cells": [
  {
   "cell_type": "markdown",
   "metadata": {},
   "source": [
    "# Programing exercise 10: Monte Carlo wave function method\n",
    "\n",
    "Due on Monday, 21.01.2019, 14.15h\n",
    "\n",
    "__This exercise sheet has been solved by:__ Mathieu Kaltschmidt and Carl von Randow\n",
    "\n",
    "### Total: 100 points"
   ]
  },
  {
   "cell_type": "markdown",
   "metadata": {},
   "source": [
    "## The problem\n",
    "\n",
    "We will again consider the EIT problem from programming exercise 9.\n",
    "\n",
    "Light propagating through an atomic medium is usually scattered and thus absorbed thorough near-resonant coupling to a transition from the ground ($|g_1\\rangle$) to an excited ($|e\\rangle$) electronic state. If a second light field (\"coupling laser\") couples the excited state to a third, long-lived, state ($|g_2\\rangle$), the medium can again become transparent for the first light field (\"probe laser\"). This effect, called electromagnetically induced transparency (EIT) - the above description referring to the lambda confuration for obvious reasons - has led to a plethora of applications, see e.g. Rev. Mod. Phys. 77, 633 (2005) [1]. The dynamics of the atomic populations can be simulated using the Lindbald master equation approach, accounting for the coherent driving laser fields, and incoherent processes such as spontaneous emission and dephasing, e.g. due to finite laser linewidth. The complex refractive index of the atomic medium is given by $n=\\sqrt{1+\\chi}\\approx 1 + (\\chi_R + \\chi_I)/2$, where the real and imaginary part of complex  susceptibility $\\chi$ account for diffraction and absorption of the probe light respectively. $\\chi$ depends on the polarizability of the atomic dipoles in the medium and is thus proportional to expectation value of the operator $|g_1\\rangle \\langle e|$, i.e. $\\rm{tr}[|g_1\\rangle \\langle e| \\rho] = \\langle e| \\rho |g_1 \\rangle = \\rho_{eg_1}$. This coherence will thus be the main object of interest.\n",
    "\n",
    "The interaction with the laser fields is described by the Hamiltonian (in rotating wave approximation, in the basis $\\{|g_1\\rangle,|g_2\\rangle,|e\\rangle\\}$, following the sign convention used in [1])\n",
    "$$\n",
    "H=\\left[\n",
    "\\begin{array}{ccc}\n",
    "0 & 0 & -\\Omega_p/2 \\\\\n",
    "0 & \\Delta_p-\\Delta_c & -\\Omega_c/2 \\\\\n",
    "-\\Omega_p/2 & -\\Omega_c/2 & \\Delta_p\n",
    "\\end{array}\n",
    "\\right]\n",
    "$$\n",
    "where $\\Omega$'s are Rabi-frequencies and $\\Delta$'s are the detunings of the lasers from the respective atomic transitions. $\\Delta_p-\\Delta_c$ is the \"two-photon-detuning\" sometimes abbreviated as $\\delta_2$.\n",
    "\n",
    "The dissipative processes we want to consider are the spontaneous emission from $e$ to both ground states $g_1$ and $g_2$ and later also the decay from $g_2$ to $g_1$, which breaks the EIT. These are accouted for by the jump operators\n",
    "$$\n",
    "\\Gamma_{eg_1} = \\sqrt{\\gamma_p} |g_1\\rangle \\langle e|, \\quad \\Gamma_{eg_2} = \\sqrt{\\gamma_c} |g_2\\rangle \\langle e|, \\quad\\Gamma_{g_2g_1} = \\sqrt{\\gamma_g} |g_1\\rangle \\langle g_2| .\n",
    "$$\n",
    "The resulting master equation reads\n",
    "$$\n",
    "\\dot\\rho = -i[H,\\rho] + \\mathcal{L}_{\\Gamma_{eg_1}} [\\rho]+ \\mathcal{L}_{\\Gamma_{eg_2}} [\\rho]+ \\mathcal{L}_{\\Gamma_{g_2g_1}} [\\rho]\n",
    "$$\n",
    "with the Lindblad superoperator\n",
    "$$\n",
    "\\mathcal{L}_{\\Gamma_x} [\\rho] = \\Gamma_x \\rho \\Gamma_x^\\dagger - \\frac{1}{2}(\\Gamma_x^\\dagger\\Gamma_x \\rho + \\rho \\Gamma_x^\\dagger\\Gamma_x)\n",
    "$$\n",
    "\n",
    "This time we want to solve the dynamics using the Monte Carlo wave function technique. For such a small system (3-dimensional Hilbert space) the method will not be more efficient than directly integrating the master equation. However, when it comes to many-body spin systems for example, the reduction from a $4^N$ to a $2^N$ dimensional problem at the expense of doing stochastic sampling, can be extremely useful."
   ]
  },
  {
   "cell_type": "code",
   "execution_count": 177,
   "metadata": {},
   "outputs": [],
   "source": [
    "# load standard libraries\n",
    "import numpy as np   \n",
    "import numpy.linalg as LA\n",
    "import matplotlib.pyplot as plt   \n",
    "%matplotlib inline\n",
    "#import random\n",
    "\n",
    "#Plot settings\n",
    "plt.style.use('seaborn-talk')\n",
    "plt.rcParams[\"font.family\"]='serif'\n",
    "plt.rcParams[\"figure.figsize\"][0] = 10\n",
    "plt.rcParams[\"figure.figsize\"][1] = 6"
   ]
  },
  {
   "cell_type": "markdown",
   "metadata": {},
   "source": [
    "### Exercise 1 (40 points)\n",
    "\n",
    "Calculate a single jump trajectory by implementing the algorithm discussed in the lecture (see also Rev. Mod. Phys. 70, 101-144, 1998). \n",
    "\n",
    "Try out the following cases: \n",
    "- \"Standard EIT\" case: $\\Omega_p=1, \\Omega_c=2, \\gamma_p=2$ and all other parameters zero. Calculate the evolution up to t=10, plotting the populations of the three states. There should not be many jumps in this case. At long times any single trajectory should go to the correct dark state, which you can check using the analytical solution for the dark state. Even if you don't allow any jumps by setting the jump probability to zero, such that you simply propagate with the non-hermitian Hamiltonian and renormalize after each step, you already converge to the correct steady state. (Why?)\n",
    "- \"On-off\" case. When $\\Omega_p$ and $\\Gamma_p$ are much larger than $\\Omega_c$ and $\\Gamma_c$, we have a situation that is similar to the Dehmelt setup (Phys. Rev. Lett. 57, 1699) with the difference that we have a $\\Lambda$-scheme instead of a V-scheme. For the lambda scheme we always have EIT, i.e. the system will end up in the dark state after some time. However, if we add a small decay $\\gamma_g$ there is no exact dark state any more and we can observe a similar behavior to the \"telegraph noise\" reported in Phys. Rev. Lett. 57, 1699, where the atom alternates between a fluorescing state and a dark state. Try the parameters $\\Omega_p=1, \\Omega_c=0.1, \\gamma_p=1, \\gamma_c=0.1, \\gamma_g=0.01$ and integrate up to a long time (t=1000).\n",
    "- Optional: In the V-scheme the difference is that the decay is from the g-states to the e-state. In this case there is no true dark state. On the other hand, the resulting dynamics we get from the quantum jump simulation is not quite what one expects from the experiment with a single ion. Why is this? What are we missing? If we instead make a ladder scheme with a decay from g1 to e and from e to g2, the telegraph noise behavior is recovered. Try this case with $\\Omega_p=1, \\Omega_c=0.1, \\bar{\\gamma}_p=1, \\gamma_c=0.1$, where the overbar indicated that the decay goes into the opposite direction compared to the EIT case. Again integrate to a long time."
   ]
  },
  {
   "cell_type": "markdown",
   "metadata": {},
   "source": [
    "## Solution:\n",
    "\n",
    "### Part I: \"Standard EIT\""
   ]
  },
  {
   "cell_type": "code",
   "execution_count": 178,
   "metadata": {},
   "outputs": [],
   "source": [
    "#Parameters for this setting\n",
    "(gamma_p, gamma_c, gamma_g) = (2, 0, 0)\n",
    "\n",
    "(Omega_p, Omega_c, Delta_p, Delta_c) = (1, 2, 0, 0)\n",
    "\n",
    "#states of our system [g1,g2,e]\n",
    "states = {'g1': np.diag(np.ones(3))[0], \\\n",
    "          'g2': np.diag(np.ones(3))[1], \\\n",
    "          'e':  np.diag(np.ones(3))[2] } \n",
    "\n",
    "#Definining the jump operators\n",
    "def buildJumpOps(gamma_p, gamma_c, gamma_g):\n",
    "    JumpOps = {'eg1':  np.sqrt(gamma_p) * np.outer(states['g1'], states['e']), \\\n",
    "               'eg2':  np.sqrt(gamma_c) * np.outer(states['g2'], states['e']), \\\n",
    "               'g1g2': np.sqrt(gamma_g) * np.outer(states['g2'], states['g1']) }\n",
    "    return JumpOps\n",
    "\n",
    "#Building the Hamiltonian\n",
    "def buildHmat(Omega_p, Omega_c, Delta_p, Delta_c):\n",
    "    Hmat = np.array([[0, 0, -Omega_p/2], [0, Delta_p - Delta_c, -Omega_c/2], [-Omega_p/2, -Omega_c/2, Delta_p]])\n",
    "    return Hmat\n",
    "\n",
    "#Defining the non-hermitian part of the Hamiltonian\n",
    "def buildH_nh(Hmat, JumpOps):\n",
    "    H_nh = Hmat - 0.5j * np.sum([JumpOp.T.conj() @ JumpOp for JumpOp in JumpOps.values()], axis = 0)\n",
    "    return H_nh"
   ]
  },
  {
   "cell_type": "code",
   "execution_count": 194,
   "metadata": {},
   "outputs": [],
   "source": [
    "#Calculating the Jump operators\n",
    "JumpOps = buildJumpOps(gamma_p, gamma_c, gamma_g)\n",
    "\n",
    "#Implementing the Monte Carlo wave function method\n",
    "def singleMCWF(tvec, Psi_0, JumpOps, H_nh):\n",
    "    #Initialization\n",
    "    Psi = Psi_0\n",
    "    Psi_t = [Psi_0]\n",
    "    dp_alpha_t = []\n",
    "    dt = (tvec[-1] - tvec[0]) / (len(tvec) - 1) \n",
    "    \n",
    "    for t in tvec:\n",
    "        dp_alpha = [dt * Psi.T.conj()@JumpOps[alpha].T.conj()@JumpOps[alpha]@Psi for alpha in ['eg1','eg2','g1g2']]\n",
    "        dp_alpha_t.append(dp_alpha)\n",
    "        \n",
    "        jumpval = np.random.random()\n",
    "        intervals = np.array([0, *dp_alpha])\n",
    "        alpha = np.array(['eg1', 'eg2', 'g1g2'])[(jumpval >= intervals[:-1]) & (jumpval < intervals[1:])]\n",
    "        \n",
    "        if len(alpha) == 1:\n",
    "            Psi = JumpOps[alpha[0]] @ Psi\n",
    "        else:\n",
    "            Psi = (1 - 1j * H_nh * dt) @ Psi\n",
    "        \n",
    "        #Normalization\n",
    "        Psi = Psi / np.linalg.norm(Psi)\n",
    "        assert np.linalg.norm(Psi) - 1 < 1e-5\n",
    "        Psi_t.append(Psi)\n",
    "    return np.array(Psi_t), np.array(dp_alpha_t)"
   ]
  },
  {
   "cell_type": "code",
   "execution_count": 186,
   "metadata": {},
   "outputs": [],
   "source": [
    "tvec = np.arange(0, 10, 0.1)\n",
    "Psi_0 = states['g1']\n",
    "Hmat = buildHmat(Omega_p, Omega_c, Delta_p, Delta_c)\n",
    "H_nh = buildH_nh(Hmat, JumpOps)"
   ]
  },
  {
   "cell_type": "code",
   "execution_count": 193,
   "metadata": {
    "scrolled": false
   },
   "outputs": [
    {
     "name": "stdout",
     "output_type": "stream",
     "text": [
      "[0.049999999999999996, 0.004999999999999999, 0.0005]\n",
      "[(0.03211869048326856+0j), (0.0032118690483268564+0j), (0.00033942670913014305+1.6940658945086007e-21j)]\n",
      "[(0.032538265131668326+0j), (0.0032538265131668333+2.710505431213761e-20j), (0.00033725670167608515+0j)]\n",
      "[(0.032534455437659114+0j), (0.0032534455437659114+0j), (0.00033728394847172956+0j)]\n",
      "[(0.03253442327804951+0j), (0.003253442327804951+0j), (0.0003372844055898016+0j)]\n",
      "[(0.03253442524941861+0j), (0.0032534425249418604-2.710505431213761e-20j), (0.00033728438768462787+3.3881317890172014e-21j)]\n",
      "[(0.0325344252192401-4.336808689942018e-19j), (0.0032534425219240093+0j), (0.00033728438788706977-6.776263578034403e-21j)]\n",
      "[(0.032534425219178535+0j), (0.003253442521917853+0j), (0.00033728438788916434-6.776263578034403e-21j)]\n",
      "[(0.032534425219190415+0j), (0.003253442521919041-5.421010862427522e-20j), (0.00033728438788904996-6.776263578034403e-21j)]\n",
      "[(0.03253442521919018+0j), (0.0032534425219190176+0j), (0.00033728438788905164+0j)]\n",
      "[(0.03253442521919017+0j), (0.003253442521919017+0j), (0.0003372843878890516+0j)]\n",
      "[(0.032534425219190165+0j), (0.0032534425219190167+5.421010862427522e-20j), (0.00033728438788905164+0j)]\n",
      "[(0.03253442521919015+0j), (0.003253442521919016+0j), (0.0003372843878890516-6.776263578034403e-21j)]\n",
      "[(0.03253442521919018-8.673617379884035e-19j), (0.0032534425219190176+0j), (0.00033728438788905164-6.776263578034403e-21j)]\n",
      "[0j, 0j, (0.0010000000000000005+0j)]\n",
      "[(0.033399963901385644+0j), (0.003339996390138565+2.168404344971009e-19j), (0.00033283363877780793+0j)]\n",
      "[(0.03255027589050788+0j), (0.003255027589050788+0j), (0.0003370702834119984+0j)]\n",
      "[(0.0325337580456602+0j), (0.0032533758045660208+1.0842021724855044e-19j), (0.000337290268852875+0j)]\n",
      "[(0.03253443351852015+0j), (0.003253443351852015+0j), (0.000337284338596043+2.710505431213761e-20j)]\n",
      "[(0.03253442528144232+0j), (0.0032534425281442324+0j), (0.00033728438686195917+1.3552527156068805e-20j)]\n",
      "[(0.03253442521498019+0j), (0.0032534425214980193+0j), (0.00033728438792769613+0j)]\n",
      "[(0.032534425219255876-1.734723475976807e-18j), (0.003253442521925588+1.0842021724855044e-19j), (0.00033728438788860826+0j)]\n",
      "[(0.03253442521919028-1.734723475976807e-18j), (0.0032534425219190284+1.0842021724855044e-19j), (0.0003372843878890474+0j)]\n",
      "[(0.03253442521919015+0j), (0.0032534425219190154+1.0842021724855044e-19j), (0.0003372843878890519-1.3552527156068805e-20j)]\n",
      "[0j, 0j, (0.001+0j)]\n",
      "[(0.03339996390138566+0j), (0.0033399963901385656-2.168404344971009e-19j), (0.00033283363877780804+1.3552527156068805e-20j)]\n",
      "[(0.03255027589050788+0j), (0.003255027589050789+0j), (0.00033707028341199827+0j)]\n",
      "[(0.0325337580456602+1.734723475976807e-18j), (0.0032533758045660203+0j), (0.000337290268852875+1.3552527156068805e-20j)]\n",
      "[(0.032534433518520145+0j), (0.0032534433518520145-2.168404344971009e-19j), (0.0003372843385960432+1.3552527156068805e-20j)]\n",
      "[(0.03253442528144231+1.734723475976807e-18j), (0.003253442528144231+0j), (0.00033728438686195917-1.3552527156068805e-20j)]\n",
      "[(0.0325344252149802-1.734723475976807e-18j), (0.0032534425214980206-2.168404344971009e-19j), (0.000337284387927696-1.3552527156068805e-20j)]\n",
      "[(0.03253442521925589+1.734723475976807e-18j), (0.0032534425219255887+2.168404344971009e-19j), (0.0003372843878886083+0j)]\n",
      "[(0.032534425219190276+0j), (0.0032534425219190276+0j), (0.00033728438788904725+1.3552527156068805e-20j)]\n",
      "[(0.03253442521919015+0j), (0.003253442521919015+0j), (0.00033728438788905197+0j)]\n",
      "[(0.03253442521919016+0j), (0.0032534425219190163+0j), (0.0003372843878890516+0j)]\n",
      "[(0.032534425219190165-1.734723475976807e-18j), (0.0032534425219190167-2.168404344971009e-19j), (0.00033728438788905164-2.710505431213761e-20j)]\n",
      "[(0.032534425219190165+0j), (0.0032534425219190163+0j), (0.0003372843878890517+0j)]\n",
      "[(0.03253442521919018+0j), (0.0032534425219190176+2.168404344971009e-19j), (0.0003372843878890517+0j)]\n",
      "[(0.03253442521919017+0j), (0.003253442521919017+0j), (0.0003372843878890517+0j)]\n",
      "[(0.03253442521919018+0j), (0.003253442521919018+0j), (0.0003372843878890517+0j)]\n",
      "[0j, 0j, (0.001-5.421010862427522e-20j)]\n",
      "[(0.03339996390138565+0j), (0.003339996390138565-2.168404344971009e-19j), (0.00033283363877780793+0j)]\n",
      "[(0.03255027589050788-1.734723475976807e-18j), (0.003255027589050788+0j), (0.0003370702834119984+0j)]\n",
      "[(0.0325337580456602+0j), (0.0032533758045660203+0j), (0.0003372902688528748+0j)]\n",
      "[(0.03253443351852015+0j), (0.0032534433518520154+0j), (0.0003372843385960432+0j)]\n",
      "[(0.03253442528144231+0j), (0.0032534425281442315+0j), (0.00033728438686195917-2.710505431213761e-20j)]\n",
      "[(0.03253442521498019+0j), (0.0032534425214980197+2.168404344971009e-19j), (0.00033728438792769613+2.710505431213761e-20j)]\n",
      "[(0.03253442521925588+1.734723475976807e-18j), (0.0032534425219255883+2.168404344971009e-19j), (0.00033728438788860826-2.710505431213761e-20j)]\n",
      "[(0.03253442521919028-1.734723475976807e-18j), (0.003253442521919028+0j), (0.0003372843878890474+2.710505431213761e-20j)]\n",
      "[(0.03253442521919014+0j), (0.0032534425219190137+2.168404344971009e-19j), (0.0003372843878890518+0j)]\n",
      "[(0.03253442521919017+0j), (0.003253442521919018+4.336808689942018e-19j), (0.0003372843878890517-2.710505431213761e-20j)]\n",
      "[(0.03253442521919017+3.469446951953614e-18j), (0.003253442521919017+4.336808689942018e-19j), (0.0003372843878890516+0j)]\n",
      "[(0.032534425219190186-1.734723475976807e-18j), (0.003253442521919019+0j), (0.0003372843878890517+0j)]\n",
      "[(0.032534425219190186+0j), (0.0032534425219190185+0j), (0.0003372843878890517+0j)]\n",
      "[(0.03253442521919017-3.469446951953614e-18j), (0.003253442521919017-2.168404344971009e-19j), (0.0003372843878890517+2.710505431213761e-20j)]\n",
      "[(0.032534425219190186+0j), (0.003253442521919019+2.168404344971009e-19j), (0.00033728438788905164+0j)]\n",
      "[(0.03253442521919017+0j), (0.003253442521919017+0j), (0.0003372843878890516-2.710505431213761e-20j)]\n",
      "[(0.03253442521919017+0j), (0.003253442521919017-2.168404344971009e-19j), (0.0003372843878890516-5.421010862427522e-20j)]\n",
      "[(0.03253442521919017+0j), (0.003253442521919017+0j), (0.0003372843878890516-2.710505431213761e-20j)]\n",
      "[(0.03253442521919017+0j), (0.0032534425219190176+0j), (0.00033728438788905164+0j)]\n",
      "[(0.03253442521919018+0j), (0.003253442521919018-4.336808689942018e-19j), (0.00033728438788905175+2.710505431213761e-20j)]\n",
      "[(0.03253442521919018-3.469446951953614e-18j), (0.003253442521919018-4.336808689942018e-19j), (0.00033728438788905175-5.421010862427522e-20j)]\n",
      "[(0.03253442521919018+0j), (0.003253442521919018+0j), (0.0003372843878890517+2.710505431213761e-20j)]\n",
      "[(0.03253442521919017+0j), (0.0032534425219190176+0j), (0.0003372843878890517-2.710505431213761e-20j)]\n",
      "[(0.032534425219190186+0j), (0.0032534425219190185+2.168404344971009e-19j), (0.00033728438788905175+2.710505431213761e-20j)]\n",
      "[(0.03253442521919018+0j), (0.0032534425219190176+2.168404344971009e-19j), (0.00033728438788905175+0j)]\n",
      "[(0.03253442521919017+0j), (0.003253442521919017-2.168404344971009e-19j), (0.0003372843878890515+2.710505431213761e-20j)]\n",
      "[(0.032534425219190186+0j), (0.0032534425219190185-2.168404344971009e-19j), (0.0003372843878890517-2.710505431213761e-20j)]\n",
      "[(0.03253442521919018+3.469446951953614e-18j), (0.003253442521919018+4.336808689942018e-19j), (0.0003372843878890516+2.710505431213761e-20j)]\n",
      "[(0.03253442521919018+0j), (0.003253442521919018+2.168404344971009e-19j), (0.00033728438788905164+0j)]\n",
      "[(0.03253442521919018+0j), (0.003253442521919018-2.168404344971009e-19j), (0.0003372843878890516+2.710505431213761e-20j)]\n",
      "[0j, 0j, (0.0010000000000000005-1.0842021724855044e-19j)]\n",
      "[(0.03339996390138564+0j), (0.003339996390138564-2.168404344971009e-19j), (0.000332833638777808-2.710505431213761e-20j)]\n",
      "[(0.032550275890507886+3.469446951953614e-18j), (0.0032550275890507884+0j), (0.0003370702834119984+0j)]\n",
      "[(0.032533758045660194+0j), (0.003253375804566019+0j), (0.0003372902688528749+0j)]\n",
      "[(0.03253443351852015-3.469446951953614e-18j), (0.0032534433518520154-2.168404344971009e-19j), (0.0003372843385960431+0j)]\n",
      "[(0.032534425281442306-1.734723475976807e-18j), (0.003253442528144231-2.168404344971009e-19j), (0.0003372843868619592+0j)]\n",
      "[(0.0325344252149802+0j), (0.00325344252149802+0j), (0.0003372843879276962+0j)]\n",
      "[(0.032534425219255876+1.734723475976807e-18j), (0.0032534425219255874+2.168404344971009e-19j), (0.00033728438788860826+0j)]\n",
      "[(0.03253442521919028+0j), (0.0032534425219190284+0j), (0.0003372843878890474+2.710505431213761e-20j)]\n",
      "[(0.03253442521919016-1.734723475976807e-18j), (0.003253442521919016+0j), (0.00033728438788905197-2.710505431213761e-20j)]\n",
      "[(0.032534425219190186+0j), (0.003253442521919018+0j), (0.00033728438788905175-2.710505431213761e-20j)]\n",
      "[(0.03253442521919018+0j), (0.003253442521919018+0j), (0.0003372843878890517-2.710505431213761e-20j)]\n",
      "[(0.032534425219190165-1.734723475976807e-18j), (0.003253442521919017-4.336808689942018e-19j), (0.00033728438788905153-2.710505431213761e-20j)]\n",
      "[(0.03253442521919018+1.734723475976807e-18j), (0.003253442521919018+2.168404344971009e-19j), (0.00033728438788905164+0j)]\n",
      "[(0.032534425219190186+0j), (0.003253442521919019+0j), (0.00033728438788905164+0j)]\n",
      "[(0.032534425219190165+0j), (0.003253442521919017-2.168404344971009e-19j), (0.0003372843878890517+0j)]\n",
      "[(0.03253442521919017-1.734723475976807e-18j), (0.003253442521919017-2.168404344971009e-19j), (0.0003372843878890517+2.710505431213761e-20j)]\n",
      "[(0.03253442521919017+0j), (0.003253442521919017-2.168404344971009e-19j), (0.00033728438788905153+0j)]\n",
      "[(0.03253442521919018+0j), (0.003253442521919018+0j), (0.00033728438788905164+0j)]\n",
      "[(0.03253442521919017+1.734723475976807e-18j), (0.0032534425219190176+0j), (0.0003372843878890516+2.710505431213761e-20j)]\n",
      "[(0.03253442521919017+0j), (0.003253442521919018-2.168404344971009e-19j), (0.0003372843878890517+0j)]\n",
      "[(0.032534425219190165+0j), (0.0032534425219190167-2.168404344971009e-19j), (0.00033728438788905164+0j)]\n",
      "[(0.03253442521919017+0j), (0.003253442521919017-2.168404344971009e-19j), (0.0003372843878890517+0j)]\n",
      "[(0.03253442521919017+0j), (0.0032534425219190176-2.168404344971009e-19j), (0.0003372843878890517+0j)]\n",
      "[(0.032534425219190165+0j), (0.0032534425219190176-2.168404344971009e-19j), (0.0003372843878890517+2.710505431213761e-20j)]\n",
      "[(0.03253442521919017+0j), (0.0032534425219190167+2.168404344971009e-19j), (0.0003372843878890516+0j)]\n",
      "[(0.03253442521919017+0j), (0.0032534425219190167+0j), (0.0003372843878890517+1.3552527156068805e-20j)]\n",
      "[(0.03253442521919018-1.734723475976807e-18j), (0.0032534425219190176-4.336808689942018e-19j), (0.0003372843878890517-1.3552527156068805e-20j)]\n",
      "[(0.03253442521919017+0j), (0.003253442521919017-2.168404344971009e-19j), (0.0003372843878890518+0j)]\n",
      "The theoretical dark state is [0.00990099 0.99009901 0.        ]\n"
     ]
    },
    {
     "data": {
      "text/plain": [
       "[<matplotlib.lines.Line2D at 0x11bcf2b00>]"
      ]
     },
     "execution_count": 193,
     "metadata": {},
     "output_type": "execute_result"
    },
    {
     "data": {
      "image/png": "[encoded data removed]",
      "text/plain": [
       "<Figure size 720x432 with 1 Axes>"
      ]
     },
     "metadata": {
      "needs_background": "light"
     },
     "output_type": "display_data"
    }
   ],
   "source": [
    "Psi_t = singleMCWF(tvec, Psi_0, JumpOps, H_nh)\n",
    "\n",
    "dark_state = (Omega_c * states['g1'] - Omega_p * states['g2']) / np.sqrt(Omega_p**2 + Omega_c**2)\n",
    "print('The theoretical dark state is', dark_state**2)\n",
    "\n",
    "\"\"\"\n",
    "plt.plot(Psi_t[:, 0].real)\n",
    "plt.plot(Psi_t[:, 1].real)\n",
    "plt.plot(Psi_t[:, 2].real)\n",
    "\n",
    "plt.plot(Psi_t[:, 0].imag)\n",
    "plt.plot(Psi_t[:, 1].imag)\n",
    "plt.plot(Psi_t[:, 2].imag)\n",
    "\"\"\"\n",
    "\n",
    "plt.plot(np.abs(Psi_t[:, 0])**2)\n",
    "plt.plot(np.abs(Psi_t[:, 1])**2)\n",
    "plt.plot(np.abs(Psi_t[:, 2])**2)"
   ]
  },
  {
   "cell_type": "code",
   "execution_count": 188,
   "metadata": {},
   "outputs": [
    {
     "name": "stdout",
     "output_type": "stream",
     "text": [
      "[0 1 2 3]\n",
      "[ True  True False]\n",
      "[False  True  True]\n",
      "[-0.5  0.   0.5  1.   1.5  2.   2.5  3.   3.5  4.   4.5]\n",
      "[]\n",
      "['eg1']\n",
      "['eg1']\n",
      "['eg2']\n",
      "['eg2']\n",
      "['g1g2']\n",
      "['g1g2']\n",
      "[]\n",
      "[]\n",
      "[]\n",
      "[]\n"
     ]
    }
   ],
   "source": [
    "a = np.arange(4)\n",
    "print(a)\n",
    "print(1.1 >= a[:-1])\n",
    "print(1.1 < a[1:])\n",
    "b = np.arange(-0.5, 5, 0.5)\n",
    "print(b)\n",
    "for item in b:\n",
    "    tmp = (item >= a[:-1]) & (item < a[1:])\n",
    "    #print(tmp)\n",
    "    print(np.array(['eg1', 'eg2', 'g1g2'])[tmp])"
   ]
  },
  {
   "cell_type": "code",
   "execution_count": 189,
   "metadata": {},
   "outputs": [
    {
     "name": "stdout",
     "output_type": "stream",
     "text": [
      "[0.5        0.25065966 0.12566053 0.06299605 0.03158114 0.01583223\n",
      " 0.00793701 0.00397897 0.00199474 0.001     ]\n",
      "[0.001      0.00199474 0.00397897 0.00793701 0.01583223 0.03158114\n",
      " 0.06299605 0.12566053 0.25065966 0.5       ]\n"
     ]
    }
   ],
   "source": [
    "print(np.logspace(np.log10(0.5), np.log10(0.001), 10))\n",
    "print(np.logspace(np.log10(0.001), np.log10(0.5), 10))\n"
   ]
  },
  {
   "cell_type": "code",
   "execution_count": 190,
   "metadata": {},
   "outputs": [
    {
     "name": "stdout",
     "output_type": "stream",
     "text": [
      "-0.3010299956639812\n"
     ]
    }
   ],
   "source": [
    "print(np.log10(0.5))"
   ]
  },
  {
   "cell_type": "markdown",
   "metadata": {},
   "source": [
    "### Part II: \"On-off\" case"
   ]
  },
  {
   "cell_type": "code",
   "execution_count": 191,
   "metadata": {},
   "outputs": [],
   "source": [
    "#Parameters for this setting\n",
    "(gamma_p, gamma_c, gamma_g) = (1, 0.1, 0.01)\n",
    "(Omega_p, Omega_c, Delta_p, Delta_c) = (1, 0.1, 0, 0)\n",
    "\n",
    "JumpOps = buildJumpOps(gamma_p, gamma_c, gamma_g)\n",
    "\n",
    "tvec = np.arange(0, 10, 0.1)\n",
    "Psi_0 = (states['g1'] + states['e'])/np.sqrt(2)\n",
    "assert np.linalg.norm(Psi_0) -1 < 1e-5\n",
    "Hmat = buildHmat(Omega_p, Omega_c, Delta_p, Delta_c)\n",
    "H_nh = buildH_nh(Hmat, JumpOps)"
   ]
  },
  {
   "cell_type": "code",
   "execution_count": 192,
   "metadata": {
    "scrolled": false
   },
   "outputs": [
    {
     "name": "stdout",
     "output_type": "stream",
     "text": [
      "[0.049999999999999996, 0.004999999999999999, 0.0005]\n",
      "[(0.03211869048326856+0j), (0.0032118690483268564+0j), (0.00033942670913014305+1.6940658945086007e-21j)]\n",
      "[(0.032538265131668326+0j), (0.0032538265131668333+2.710505431213761e-20j), (0.00033725670167608515+0j)]\n",
      "[(0.032534455437659114+0j), (0.0032534455437659114+0j), (0.00033728394847172956+0j)]\n",
      "[(0.03253442327804951+0j), (0.003253442327804951+0j), (0.0003372844055898016+0j)]\n",
      "[(0.03253442524941861+0j), (0.0032534425249418604-2.710505431213761e-20j), (0.00033728438768462787+3.3881317890172014e-21j)]\n",
      "[(0.0325344252192401-4.336808689942018e-19j), (0.0032534425219240093+0j), (0.00033728438788706977-6.776263578034403e-21j)]\n",
      "[(0.032534425219178535+0j), (0.003253442521917853+0j), (0.00033728438788916434-6.776263578034403e-21j)]\n",
      "[(0.032534425219190415+0j), (0.003253442521919041-5.421010862427522e-20j), (0.00033728438788904996-6.776263578034403e-21j)]\n",
      "[(0.03253442521919018+0j), (0.0032534425219190176+0j), (0.00033728438788905164+0j)]\n",
      "[(0.03253442521919017+0j), (0.003253442521919017+0j), (0.0003372843878890516+0j)]\n",
      "[(0.032534425219190165+0j), (0.0032534425219190167+5.421010862427522e-20j), (0.00033728438788905164+0j)]\n",
      "[(0.03253442521919015+0j), (0.003253442521919016+0j), (0.0003372843878890516-6.776263578034403e-21j)]\n",
      "[0j, 0j, (0.001+0j)]\n",
      "[(0.033399963901385644-8.673617379884035e-19j), (0.003339996390138565+1.0842021724855044e-19j), (0.0003328336387778078+1.3552527156068805e-20j)]\n",
      "[(0.032550275890507886+0j), (0.003255027589050789+0j), (0.0003370702834119983+0j)]\n",
      "[(0.0325337580456602+0j), (0.0032533758045660203+0j), (0.0003372902688528749-1.3552527156068805e-20j)]\n",
      "[(0.032534433518520145-8.673617379884035e-19j), (0.0032534433518520154+0j), (0.00033728433859604316+0j)]\n",
      "[(0.032534425281442306+0j), (0.0032534425281442307+1.0842021724855044e-19j), (0.000337284386861959-1.3552527156068805e-20j)]\n",
      "[(0.032534425214980206-8.673617379884035e-19j), (0.0032534425214980206-1.0842021724855044e-19j), (0.00033728438792769613+0j)]\n",
      "[(0.03253442521925588+0j), (0.0032534425219255883+0j), (0.0003372843878886083+0j)]\n",
      "[(0.0325344252191903+0j), (0.00325344252191903+1.0842021724855044e-19j), (0.00033728438788904736+0j)]\n",
      "[(0.03253442521919016+0j), (0.0032534425219190154+0j), (0.00033728438788905186-1.3552527156068805e-20j)]\n",
      "[(0.032534425219190165+0j), (0.0032534425219190163+1.0842021724855044e-19j), (0.0003372843878890517+0j)]\n",
      "[(0.032534425219190165+0j), (0.0032534425219190163-2.168404344971009e-19j), (0.00033728438788905164+0j)]\n",
      "[(0.03253442521919017+1.734723475976807e-18j), (0.0032534425219190176+1.0842021724855044e-19j), (0.00033728438788905164+1.3552527156068805e-20j)]\n",
      "[(0.03253442521919017+0j), (0.003253442521919017+0j), (0.00033728438788905164+1.3552527156068805e-20j)]\n",
      "[(0.032534425219190165-1.734723475976807e-18j), (0.0032534425219190176+0j), (0.00033728438788905164+0j)]\n",
      "[(0.03253442521919017+0j), (0.003253442521919017+0j), (0.00033728438788905164+0j)]\n",
      "[(0.03253442521919017+0j), (0.003253442521919017+0j), (0.00033728438788905164+0j)]\n",
      "[(0.03253442521919017+0j), (0.003253442521919017+0j), (0.00033728438788905164-1.3552527156068805e-20j)]\n",
      "[(0.03253442521919017-1.734723475976807e-18j), (0.003253442521919018+0j), (0.0003372843878890517+0j)]\n",
      "[(0.03253442521919018+0j), (0.0032534425219190185+0j), (0.00033728438788905164-1.3552527156068805e-20j)]\n",
      "[(0.03253442521919017-1.734723475976807e-18j), (0.003253442521919017+0j), (0.00033728438788905164+0j)]\n",
      "[(0.032534425219190165+0j), (0.0032534425219190167+0j), (0.0003372843878890516+2.710505431213761e-20j)]\n",
      "[(0.03253442521919016+0j), (0.0032534425219190163+0j), (0.00033728438788905153+0j)]\n",
      "[0j, 0j, (0.0009999999999999998+5.421010862427522e-20j)]\n",
      "[(0.03339996390138565+0j), (0.003339996390138565+2.168404344971009e-19j), (0.00033283363877780793-2.710505431213761e-20j)]\n",
      "[(0.032550275890507886-1.734723475976807e-18j), (0.003255027589050789+0j), (0.0003370702834119984+2.710505431213761e-20j)]\n",
      "[(0.03253375804566019+0j), (0.003253375804566019+0j), (0.0003372902688528748+0j)]\n",
      "[(0.03253443351852014+0j), (0.003253443351852014+0j), (0.0003372843385960431+2.710505431213761e-20j)]\n",
      "[(0.032534425281442306+1.734723475976807e-18j), (0.003253442528144231+0j), (0.0003372843868619592+0j)]\n",
      "[(0.0325344252149802+0j), (0.0032534425214980206+2.168404344971009e-19j), (0.00033728438792769613+0j)]\n",
      "[(0.03253442521925587+0j), (0.0032534425219255874+2.168404344971009e-19j), (0.00033728438788860836+0j)]\n",
      "[(0.03253442521919029+0j), (0.0032534425219190293+2.168404344971009e-19j), (0.00033728438788904736+2.710505431213761e-20j)]\n",
      "[(0.03253442521919015+1.734723475976807e-18j), (0.0032534425219190154+2.168404344971009e-19j), (0.00033728438788905197+2.710505431213761e-20j)]\n",
      "[(0.03253442521919017-1.734723475976807e-18j), (0.0032534425219190167+0j), (0.00033728438788905164+0j)]\n",
      "[(0.03253442521919018+1.734723475976807e-18j), (0.003253442521919018-2.168404344971009e-19j), (0.00033728438788905175+0j)]\n",
      "[(0.03253442521919017-1.734723475976807e-18j), (0.003253442521919017-2.168404344971009e-19j), (0.00033728438788905164+0j)]\n",
      "[(0.032534425219190165-1.734723475976807e-18j), (0.0032534425219190163-2.168404344971009e-19j), (0.0003372843878890517+2.710505431213761e-20j)]\n",
      "[(0.03253442521919017+0j), (0.003253442521919017+2.168404344971009e-19j), (0.0003372843878890517+2.710505431213761e-20j)]\n",
      "[(0.03253442521919017+1.734723475976807e-18j), (0.003253442521919017+0j), (0.0003372843878890517-2.710505431213761e-20j)]\n",
      "[(0.03253442521919017+0j), (0.003253442521919017+0j), (0.0003372843878890517+2.710505431213761e-20j)]\n",
      "[(0.03253442521919017+0j), (0.003253442521919017+0j), (0.00033728438788905175+0j)]\n",
      "[(0.03253442521919018+3.469446951953614e-18j), (0.003253442521919018+0j), (0.0003372843878890517-2.710505431213761e-20j)]\n",
      "[(0.03253442521919017+3.469446951953614e-18j), (0.0032534425219190176+0j), (0.00033728438788905164+5.421010862427522e-20j)]\n",
      "[(0.03253442521919017+0j), (0.003253442521919017+0j), (0.00033728438788905175+0j)]\n",
      "[(0.032534425219190165+0j), (0.003253442521919017-2.168404344971009e-19j), (0.0003372843878890517+2.710505431213761e-20j)]\n",
      "[(0.03253442521919017+0j), (0.003253442521919017+0j), (0.00033728438788905164+2.710505431213761e-20j)]\n",
      "[(0.03253442521919017-3.469446951953614e-18j), (0.0032534425219190176+0j), (0.0003372843878890516+0j)]\n",
      "[(0.03253442521919017+0j), (0.003253442521919017-2.168404344971009e-19j), (0.0003372843878890516+0j)]\n",
      "[(0.03253442521919017-3.469446951953614e-18j), (0.003253442521919017+0j), (0.0003372843878890516-2.710505431213761e-20j)]\n",
      "[(0.03253442521919018+0j), (0.003253442521919018+0j), (0.00033728438788905175+2.710505431213761e-20j)]\n",
      "[(0.032534425219190186-3.469446951953614e-18j), (0.003253442521919018-2.168404344971009e-19j), (0.0003372843878890517-2.710505431213761e-20j)]\n",
      "[(0.03253442521919017+0j), (0.003253442521919017+0j), (0.0003372843878890518+0j)]\n",
      "[(0.03253442521919018-3.469446951953614e-18j), (0.003253442521919018+2.168404344971009e-19j), (0.00033728438788905175-2.710505431213761e-20j)]\n",
      "[(0.03253442521919017-3.469446951953614e-18j), (0.003253442521919017-2.168404344971009e-19j), (0.0003372843878890518+2.710505431213761e-20j)]\n",
      "[(0.03253442521919017+0j), (0.003253442521919017+0j), (0.0003372843878890517-2.710505431213761e-20j)]\n",
      "[(0.03253442521919017+0j), (0.0032534425219190176+2.168404344971009e-19j), (0.0003372843878890517-2.710505431213761e-20j)]\n",
      "[(0.03253442521919017+0j), (0.0032534425219190176+0j), (0.0003372843878890517-2.710505431213761e-20j)]\n",
      "[(0.032534425219190165+0j), (0.0032534425219190163-2.168404344971009e-19j), (0.0003372843878890517+0j)]\n",
      "[(0.03253442521919018+0j), (0.0032534425219190185-2.168404344971009e-19j), (0.0003372843878890517+0j)]\n",
      "[(0.03253442521919017+0j), (0.003253442521919017-2.168404344971009e-19j), (0.0003372843878890518+0j)]\n",
      "[0j, 0j, (0.0010000000000000002+1.0842021724855044e-19j)]\n",
      "[(0.033399963901385665-3.469446951953614e-18j), (0.003339996390138566-2.168404344971009e-19j), (0.00033283363877780793+2.710505431213761e-20j)]\n",
      "[(0.03255027589050787+0j), (0.0032550275890507875+2.168404344971009e-19j), (0.00033707028341199827+0j)]\n",
      "[(0.032533758045660194+0j), (0.00325337580456602-2.168404344971009e-19j), (0.0003372902688528749+0j)]\n",
      "[(0.03253443351852015+1.734723475976807e-18j), (0.0032534433518520154+2.168404344971009e-19j), (0.00033728433859604316-2.710505431213761e-20j)]\n",
      "[(0.032534425281442306+0j), (0.0032534425281442307+2.168404344971009e-19j), (0.0003372843868619591+0j)]\n",
      "[(0.032534425214980206+0j), (0.0032534425214980206+0j), (0.00033728438792769624+0j)]\n",
      "[(0.032534425219255876-1.734723475976807e-18j), (0.003253442521925588+0j), (0.00033728438788860815-2.710505431213761e-20j)]\n",
      "[(0.03253442521919029+0j), (0.0032534425219190293-2.168404344971009e-19j), (0.0003372843878890473+5.421010862427522e-20j)]\n",
      "[(0.032534425219190144+0j), (0.003253442521919015-2.168404344971009e-19j), (0.0003372843878890519+0j)]\n",
      "[(0.032534425219190165+0j), (0.0032534425219190167+2.168404344971009e-19j), (0.00033728438788905153+0j)]\n",
      "[(0.03253442521919017+0j), (0.003253442521919018-2.168404344971009e-19j), (0.00033728438788905164+2.710505431213761e-20j)]\n",
      "[(0.032534425219190165-1.734723475976807e-18j), (0.0032534425219190167+0j), (0.0003372843878890517+0j)]\n",
      "[(0.032534425219190165+0j), (0.003253442521919017-2.168404344971009e-19j), (0.00033728438788905153-2.710505431213761e-20j)]\n",
      "[(0.03253442521919018+1.734723475976807e-18j), (0.0032534425219190185+2.168404344971009e-19j), (0.0003372843878890517-2.710505431213761e-20j)]\n",
      "[(0.03253442521919018+0j), (0.003253442521919018+0j), (0.0003372843878890517+0j)]\n",
      "[(0.032534425219190165+0j), (0.0032534425219190163+2.168404344971009e-19j), (0.00033728438788905164+2.710505431213761e-20j)]\n",
      "[(0.03253442521919017+0j), (0.0032534425219190167+2.168404344971009e-19j), (0.0003372843878890517+2.710505431213761e-20j)]\n",
      "[(0.03253442521919017+0j), (0.0032534425219190176+2.168404344971009e-19j), (0.0003372843878890516+0j)]\n",
      "[(0.03253442521919018+1.734723475976807e-18j), (0.003253442521919018+2.168404344971009e-19j), (0.0003372843878890517+0j)]\n",
      "[(0.03253442521919017+1.734723475976807e-18j), (0.0032534425219190167+2.168404344971009e-19j), (0.00033728438788905164+0j)]\n",
      "[(0.03253442521919017+0j), (0.003253442521919017+2.168404344971009e-19j), (0.0003372843878890516+0j)]\n",
      "[(0.03253442521919017+0j), (0.0032534425219190176-2.168404344971009e-19j), (0.0003372843878890517+0j)]\n",
      "[(0.03253442521919018+0j), (0.003253442521919018+0j), (0.00033728438788905164+0j)]\n",
      "[(0.03253442521919018+1.734723475976807e-18j), (0.003253442521919018+2.168404344971009e-19j), (0.00033728438788905164+0j)]\n",
      "[(0.032534425219190186+1.734723475976807e-18j), (0.0032534425219190193-2.168404344971009e-19j), (0.00033728438788905175-1.3552527156068805e-20j)]\n",
      "[(0.03253442521919017+1.734723475976807e-18j), (0.0032534425219190167+0j), (0.0003372843878890515+0j)]\n"
     ]
    },
    {
     "data": {
      "text/plain": [
       "'\\n\\nplt.plot(np.abs(Psi_t[:, 0])**2)\\nplt.plot(np.abs(Psi_t[:, 1])**2)\\nplt.plot(np.abs(Psi_t[:, 2])**2)\\n#'"
      ]
     },
     "execution_count": 192,
     "metadata": {},
     "output_type": "execute_result"
    },
    {
     "data": {
      "image/png": "[encoded data removed]",
      "text/plain": [
       "<Figure size 720x432 with 1 Axes>"
      ]
     },
     "metadata": {
      "needs_background": "light"
     },
     "output_type": "display_data"
    }
   ],
   "source": [
    "Psi_t = singleMCWF(tvec, Psi_0, JumpOps, H_nh)\n",
    "\"\"\"\n",
    "plt.plot(Psi_t[:, 0].real)\n",
    "plt.plot(Psi_t[:, 1].real)\n",
    "plt.plot(Psi_t[:, 2].real)\n",
    "#\"\"\"\n",
    "plt.plot(Psi_t[:, 0].imag)\n",
    "plt.plot(Psi_t[:, 1].imag)\n",
    "plt.plot(Psi_t[:, 2].imag)\n",
    "\"\"\"\n",
    "\n",
    "plt.plot(np.abs(Psi_t[:, 0])**2)\n",
    "plt.plot(np.abs(Psi_t[:, 1])**2)\n",
    "plt.plot(np.abs(Psi_t[:, 2])**2)\n",
    "#\"\"\""
   ]
  },
  {
   "cell_type": "markdown",
   "metadata": {},
   "source": [
    "### Exercise 2 (30 points)\n",
    "\n",
    "Implement the actual Monte Carlo wave function method: Average the observables over many jump trajectories.\n",
    "\n",
    "To start, try the parameters of the \"Standard EIT\" case. For 100 jump trajectories and a time step of 0.1 you should already get reasonable results. Compare the result for the populations and the imaginary part of $\\rho_{eg_1}$ (absorption) to the direct integration of the master equation from Programming Exercise 9.\n",
    "\n",
    "Also plot ~50 single trajectories (e.g. plotting $\\rho_{g_1g_1}$) into one plot to see what the averaging does."
   ]
  },
  {
   "cell_type": "markdown",
   "metadata": {},
   "source": [
    "### Exercise 3 (30 points)\n",
    "\n",
    "Study the dependence on the time step and the number of trajectories systematically. For the \"Standard EIT\" case, calculate at least 1000 trajectories for different time steps ranging e.g. from 0.5 to 0.001. Plot the deviation between the full master equation solution and the trajectory average as a function of the time step and also as a function of the number of trajectories. We expect to see power law decay so it makes sense to choose logarithmically spaced grids (and plot double logarithmically). To quantify the deviation, use the mean absolute deviation of the populations at t=4. One expects the error to decrease linearly with the time step and as 1/sqrt of the number of trajectories."
   ]
  },
  {
   "cell_type": "markdown",
   "metadata": {},
   "source": [
    "Optional: Different trajectories can be calculated independently form each other so this problem cries for parallelization.\n",
    "Python offers a multiprocessing module for this, see e.g. https://sebastianraschka.com/Articles/2014_multiprocessing.html.\n",
    "Try to speed up your simulations by using multiples cores. The even more powerful option would be to run these simulations on graphic cards, which offer the possibility of massive parallelization.\n"
   ]
  },
  {
   "cell_type": "code",
   "execution_count": null,
   "metadata": {
    "collapsed": true
   },
   "outputs": [],
   "source": []
  }
 ],
 "metadata": {
  "kernelspec": {
   "display_name": "Python 3",
   "language": "python",
   "name": "python3"
  },
  "language_info": {
   "codemirror_mode": {
    "name": "ipython",
    "version": 3
   },
   "file_extension": ".py",
   "mimetype": "text/x-python",
   "name": "python",
   "nbconvert_exporter": "python",
   "pygments_lexer": "ipython3",
   "version": "3.6.6"
  }
 },
 "nbformat": 4,
 "nbformat_minor": 2
}
