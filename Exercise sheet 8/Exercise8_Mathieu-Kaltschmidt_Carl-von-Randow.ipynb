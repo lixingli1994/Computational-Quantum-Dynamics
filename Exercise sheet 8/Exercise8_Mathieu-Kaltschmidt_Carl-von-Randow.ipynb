{
 "cells": [
  {
   "cell_type": "markdown",
   "metadata": {},
   "source": [
    "# Programming exercise 8: The AKLT model and matrix product states\n",
    "\n",
    "Due on Monday, 24.12.2018, 23.59h\n",
    "\n",
    "__This exercise sheet has been solved by:__ Mathieu Kaltschmidt and Carl von Randow\n",
    "\n",
    "### Total: 100 points"
   ]
  },
  {
   "cell_type": "code",
   "execution_count": 1,
   "metadata": {
    "collapsed": true
   },
   "outputs": [],
   "source": [
    "# load standard libraries\n",
    "import scipy.sparse as sp\n",
    "import scipy.sparse.linalg as sLA\n",
    "import numpy as np\n",
    "import numpy.linalg as LA\n",
    "import matplotlib.pyplot as plt\n",
    "%matplotlib inline\n",
    "\n",
    "#Plot settings\n",
    "plt.style.use('seaborn-talk')\n",
    "plt.rcParams[\"font.family\"]='serif'\n",
    "plt.rcParams[\"figure.figsize\"][0] = 14\n",
    "plt.rcParams[\"figure.figsize\"][1] = 9"
   ]
  },
  {
   "cell_type": "markdown",
   "metadata": {},
   "source": [
    "### Exercise 1: Solving the AKLT model with exact diagonalization (25 points)\n",
    "\n",
    "This time we want to study a quantum many-body model for spins known as the AKLT model which was introduced in the 80's to explore the Haldane conjecture(see https://journals.aps.org/prl/abstract/10.1103/PhysRevLett.59.799). It has a couple of remarkable features that will allow us to use it as playground for testing the basic ideas surrounding matrix product states. As additional practice on how to build general spin models and exact diagonalization, we will start by solving it here by numerical means and then compare the result to some theoretical predictions. You can use some of the code from the last exercise as a basis but make sure to modify the operators as now we are working with spin 1!  \n",
    "\n",
    "As mentioned, this is a spin 1 model and it lives in a one dimensional chain with periodic boundary conditions (using the correct boundary condition is critical here) and the Hamiltonian is given by:\n",
    "\n",
    "$$\n",
    "H=J\\sum_{i=0}^{N-1}\\left(\\frac{1}{3} +\\frac{1}{2}S^{(i)}\\cdot S^{(i+1)}+\\frac{1}{6}(S^{(i)}\\cdot S^{(i+1)})^2\\right)\n",
    "$$\n",
    "Remenber that, due to the periodic boundary conditions, the Nth spin is identified with 0th spin. $S^{(i)}$ denotes the vector of spin sperators $(S_x^{(i)}, S_y^{(i)}, S_z^{(i)})$. It might be convenient to use the following representation for the spin their products:\n",
    "$$\n",
    "S^{(i)}\\cdot S^{(i+1)} = S_z^{(i)} S_z^{(i+1)}+\\frac{1}{2}\\left(S_+^{(i)}S_-^{(i+1)}+S_-^{(i)}S_+^{(i+1)}\\right)\n",
    "$$\n",
    "where the relevant spin 1 spin operators are $S_z=-|-1\\rangle\\langle-1| + |+1\\rangle\\langle+1|$, $S_+=\\sqrt{2}(|+1\\rangle\\langle 0| + |0\\rangle\\langle -1|)$ and $S_- = S_+^\\dagger$ (with $|s\\rangle$ denoting the basis states in the $S_z$ eigenbasis).\n",
    "\n",
    "Build the Hamiltonian in the standard product basis ($J$ is just a global energy scale and can be set to 1).\n",
    "\n",
    "First you can test your implementation by calculating the ground state energy and making sure it is zero as this is the theoretical prediction. Another test is the magnetization on the z direction which should also be zero.\n",
    "\n",
    "Once you are confident that your code is working you should compute the energy gap between ground and first excited state for a couple of system sizes $N$ and see how it behaves. Is the system gapped? This question is directly related to the Haldane conjecture.\n",
    "\n",
    "Finally, compute the correlation function $\\langle S_z^{(i)}S_z^{(i+r)} \\rangle$ as a function of $r$ and compare to the theoretical result:\n",
    "$$\n",
    "\\langle S_z^{(i)}S_z^{(i+r)}\\rangle \\propto \\left(\\frac{-1}{3}\\right)^r\n",
    "$$\n",
    "\n",
    "It probably won't look so good as the exact diagonalization is not the best tool to study this but you should get some agreement.\n",
    "\n",
    "\n",
    "Optional: Investigate what happend for open boundary conditions and see if there is any qualitative difference."
   ]
  },
  {
   "cell_type": "markdown",
   "metadata": {},
   "source": [
    "## Solution: "
   ]
  },
  {
   "cell_type": "code",
   "execution_count": 2,
   "metadata": {
    "collapsed": true
   },
   "outputs": [],
   "source": [
    "#Predefined values\n",
    "(hbar, J) = (1, 1)"
   ]
  },
  {
   "cell_type": "code",
   "execution_count": 3,
   "metadata": {},
   "outputs": [],
   "source": [
    "SpinUp, SpinZero, SpinDown = hbar * np.eye(3)\n",
    "\n",
    "#Building the Spin Operators as Sparse matrices\n",
    "Sz = sp.csr_matrix(-np.outer(SpinDown, SpinDown) + np.outer(SpinUp, SpinUp))\n",
    "SPlus = sp.csr_matrix(np.sqrt(2)*(np.outer(SpinUp, SpinZero) + np.outer(SpinZero, SpinDown)))\n",
    "SMinus = sp.csr_matrix(np.transpose(SPlus))"
   ]
  },
  {
   "cell_type": "code",
   "execution_count": 4,
   "metadata": {
    "collapsed": true
   },
   "outputs": [],
   "source": [
    "#Building the Single Spin Operators\n",
    "def SingleSpinOps(N):\n",
    "    \n",
    "    Sz_i = [sp.kron( sp.kron( sp.identity(3**(N-i-1)), Sz), sp.identity(3**i)) for i in range(N)] \n",
    "    SPlus_i = [sp.kron( sp.kron( sp.identity(3**(N-i-1)), SPlus), sp.identity(3**i)) for i in range(N)]\n",
    "    SMinus_i = [sp.kron( sp.kron( sp.identity(3**(N-i-1)), SMinus), sp.identity(3**i)) for i in range(N)] \n",
    "    \n",
    "    return np.array(Sz_i), np.array(SPlus_i), np.array(SMinus_i)\n",
    "\n",
    "#Hamiltonian for the Transverse Field Ising model with periodic boundary conditions\n",
    "def buildH(N, Sz_i, SPlus_i, SMinus_i):\n",
    "    H = J * N/3 * sp.identity(3**N)\n",
    "    for i in range(N):\n",
    "        prod = Sz_i[i] @ Sz_i[(i+1)%N] + 1/2*( SPlus_i[i] @ SMinus_i[(i+1)%N] + SMinus_i[i] @ SPlus_i[(i+1)%N])\n",
    "        H += 1/2 * prod + 1/6 * prod @ prod\n",
    "    return H"
   ]
  },
  {
   "cell_type": "markdown",
   "metadata": {},
   "source": [
    "### Ground state energy"
   ]
  },
  {
   "cell_type": "code",
   "execution_count": 5,
   "metadata": {
    "scrolled": true
   },
   "outputs": [
    {
     "name": "stdout",
     "output_type": "stream",
     "text": [
      "The ground state energy for N = 4 has been determined to -6.10935073118e-16\n",
      "\n",
      "The ground state energy for N = 5 has been determined to 1.29006165559e-15\n",
      "\n",
      "The ground state energy for N = 6 has been determined to 8.29302397038e-16\n",
      "\n",
      "The ground state energy for N = 7 has been determined to -1.37935711616e-15\n",
      "\n",
      "The ground state energy for N = 8 has been determined to -9.15561844506e-17\n",
      "\n",
      "The ground state energy for N = 9 has been determined to -6.83838737381e-16\n",
      "\n",
      "The ground state energy for N = 10 has been determined to -5.58727627126e-16\n",
      "\n",
      "The ground state energy for N = 11 has been determined to -1.44627071694e-15\n",
      "\n",
      "The ground state energy for N = 12 has been determined to -1.91428220117e-15\n",
      "\n"
     ]
    }
   ],
   "source": [
    "#Some Test values for N\n",
    "Nvals = np.arange(4,19,1, dtype = int)\n",
    "\n",
    "for N in Nvals[:-6]:\n",
    "    Sz_i, SPlus_i, SMinus_i = SingleSpinOps(N)\n",
    "    \n",
    "    #Calculating the ground state energy\n",
    "    H = buildH(N, Sz_i, SPlus_i, SMinus_i)\n",
    "    \n",
    "    #Determining the energy of the ground state\n",
    "    E0 = sLA.eigsh(H, k=3, which='SA')[0][0]\n",
    "    print('The ground state energy for N = {} has been determined to'.format(N), E0)\n",
    "    print()    "
   ]
  },
  {
   "cell_type": "markdown",
   "metadata": {},
   "source": [
    "### Discussion:\n",
    "These values can be considered as zero and therefore they show that our calculation of the ground state energy is valid."
   ]
  },
  {
   "cell_type": "markdown",
   "metadata": {},
   "source": [
    "### Energy gap for different $N$"
   ]
  },
  {
   "cell_type": "code",
   "execution_count": null,
   "metadata": {},
   "outputs": [],
   "source": [
    "#Initialization\n",
    "gap = []\n",
    "#Calculating the gap for all the N values\n",
    "for N in Nvals:\n",
    "    Sz_i, SPlus_i, SMinus_i = SingleSpinOps(N)\n",
    "    H = buildH(N, Sz_i, SPlus_i, SMinus_i)\n",
    "    energies = sLA.eigsh(H, k=2,which=\"SA\")[0]\n",
    "    gap.append(energies[1]-energies[0])"
   ]
  },
  {
   "cell_type": "code",
   "execution_count": null,
   "metadata": {},
   "outputs": [],
   "source": [
    "#Plotting the result\n",
    "plt.plot(Nvals, gap, linestyle = ' ', color = 'darkred', marker = 'o')\n",
    "plt.title(r'Energy gap between the ground state and the first excited state', size = 22)\n",
    "plt.ylabel(r'Energy gap $\\Delta E$', size = 20)\n",
    "plt.xlabel(r'Chain size $N$', size = 20)\n",
    "plt.grid(True, linestyle = 'dashed')"
   ]
  },
  {
   "cell_type": "markdown",
   "metadata": {},
   "source": [
    "### Discussion:\n",
    "As one would expect from the fact that we are observing a Spin-1 Heisenberg chain, there is an energy gap between the first excited state and the ground state. In the limit of large $N$ the value of the energy difference converges to a value $\\sim 0.35 \\ [AU] $"
   ]
  },
  {
   "cell_type": "markdown",
   "metadata": {},
   "source": [
    "## Spin correlation function"
   ]
  },
  {
   "cell_type": "code",
   "execution_count": null,
   "metadata": {
    "collapsed": true
   },
   "outputs": [],
   "source": [
    "#Theoretical expectation\n",
    "def SpinCorrelationTheo(const,r):\n",
    "    return const * (-1/3)**r\n",
    "\n",
    "#Numerical calculation\n",
    "def SpinCorrelationNum(i,r,N):\n",
    "    if i < 0 or i > N:\n",
    "        raise ValueError('Index out of range')\n",
    "    \n",
    "    (Sz_i1, Sz_i2) = (SingleSpinOps(N)[0][i], SingleSpinOps(N)[0][i+r])\n",
    "    corr = Sz_i1 @ Sz_i2\n",
    " \n",
    "  #Hier fehlt noch was!        "
   ]
  },
  {
   "cell_type": "markdown",
   "metadata": {},
   "source": [
    "### Discussion\n",
    "\n",
    "Hier könnte ihre Interpretation stehen :-)"
   ]
  },
  {
   "cell_type": "markdown",
   "metadata": {},
   "source": [
    "### Exercise 2: Entanglement in the phase diagram (25 points)\n",
    "\n",
    "Now we are going to look at entanglement in the AKLT model but to make things more interesting we add a paramenter $\\theta$ to the Hamiltonian:\n",
    "$$\n",
    "H=J\\sum_{i=0}^{N-1}\\left(\\frac{cos(\\theta)}{3 cos(\\theta_{0})} +\\frac{cos(\\theta)}{2 cos(\\theta_{0})}S^{(i)}\\cdot S^{(i+1)}+\\frac{sin(\\theta)}{2 cos(\\theta_{0})}(S^{(i)}\\cdot S^{(i+1)})^2\\right)\n",
    "$$\n",
    "where $\\theta_0 = \\text{arctan}(1/3)$ is a special angle that allow us to go back to the original Hamiltonian with $\\theta=\\theta_0$.\n",
    "\n",
    "\n",
    "Study what happens to the gap of the system as you change $\\theta$, moving away from $\\theta_0$, and interpret your results. After this you should look at the entanglement of the ground state for different $\\theta$ taking into account your conclusions about the gap. What happens to the entanglement entropy and the schmidt rank as $\\theta$ changes?\n",
    "\n",
    "Tip: a nice trick to compute partial traces is to use the function reshape() as it allows you to rewrite your state as a matrix in the way required for a Schmidt decomposition. After that all you need to do to get the entanglement spectrum is perform a svd (also available in the usual places) and look at the singular values."
   ]
  },
  {
   "cell_type": "markdown",
   "metadata": {},
   "source": [
    "## Solution:"
   ]
  },
  {
   "cell_type": "code",
   "execution_count": null,
   "metadata": {
    "collapsed": true
   },
   "outputs": [],
   "source": [
    "#Building the modified Hamiltonian\n",
    "def buildH_mod(N, Sz_i, SPlus_i, SMinus_i, theta):\n",
    "    #Initialization\n",
    "    H = J * N * np.cos(theta)/(3 * np.cos(np.arctan(1/3))) * sp.identity(3**N)\n",
    "    for i in range(N):\n",
    "        prod = Sz_i[i] @ Sz_i[(i+1)%N] + 1/2 * (SPlus_i[i] @ SMinus_i[(i+1)%N] + SMinus_i[i] @ SPlus_i[(i+1)%N])\n",
    "        H += np.cos(theta)/(2*np.cos(np.arctan(1/3)))* prod + np.sin(theta)/(6 * np.cos(np.arctan(1/3))) * prod @ prod\n",
    "    return H"
   ]
  },
  {
   "cell_type": "code",
   "execution_count": null,
   "metadata": {},
   "outputs": [],
   "source": [
    "thetaVals = np.arange(0,2*np.pi,np.pi/20)\n",
    "\n",
    "#Comparing the result for different N\n",
    "gap_all = []\n",
    "states_all = []\n",
    "for N in Nvals[:6]:\n",
    "    Sz_i, SPlus_i, SMinus_i = SingleSpinOps(N)\n",
    "    gap = []\n",
    "    statesN = []\n",
    "    #Trying different thetas\n",
    "    for theta in thetaVals:\n",
    "        H = buildH_mod(N, Sz_i, SPlus_i, SMinus_i, theta)\n",
    "        energies, states = sLA.eigsh(H, k=3, which=\"SA\")\n",
    "        #Energy gap\n",
    "        gap.append(energies[1] - energies[0])\n",
    "        #Corresponding states\n",
    "        statesN.append(states)\n",
    "        \n",
    "    #Storing all the results\n",
    "    gap_all.append(gap)\n",
    "    states_all.append(statesN)\n",
    "    \n",
    "    #Plotting the result\n",
    "    plt.plot(thetaVals/np.pi, gap, label= 'gap for N = {}'.format(N))\n",
    "    \n",
    "#Setting up the Plot\n",
    "plt.plot([np.arctan(1/3)/np.pi]*2, (-0.05,0.7), linestyle = 'dashed', color = 'darkred', \n",
    "         label = r'$\\theta_0$ = arctan$\\left(\\frac{1}{3}\\right)$')\n",
    "plt.xlabel(r'$\\theta$ [$\\pi$]', size = 20)\n",
    "plt.ylabel(r'Energy difference $\\Delta E$', size = 20)\n",
    "plt.ylim(-0.05,0.65)\n",
    "plt.title(r'Modified energy gap as a function of $\\theta$', size = 22)\n",
    "plt.legend(fontsize='large', borderpad=1.5, borderaxespad=1.5)"
   ]
  },
  {
   "cell_type": "code",
   "execution_count": null,
   "metadata": {},
   "outputs": [],
   "source": [
    "#Further analysis using the respective ground state\n",
    "\n",
    "#Test case: N=3, Theta = 0\n",
    "Psi = states_all[0][0][:,0] \n",
    "\n",
    "#Calculating the Schmidt rank \n",
    "def SchmidtRank(state):\n",
    "    #Correct reshaping\n",
    "    reshape = np.reshape(state,(A,B))\n",
    "    \n",
    "    #Obtain U, S and V matrix\n",
    "    U, S, V = LA.svd(reshape)\n",
    "    S = np.diag(S)\n",
    "    \n",
    "    #Counting non-zero elements\n",
    "    for i in range(len(S)):\n",
    "        rank = 0\n",
    "        while np.abs(S[i]) > 2e-16: #float 64 accuracy\n",
    "            rank += 1\n",
    "    return rank\n",
    "    \n",
    "def EntanglementEntropy(state):\n",
    "    #Correct reshaping\n",
    "    reshape = np.reshape(state,(A,B))\n",
    "    \n",
    "    #Obtain U, S and V matrix\n",
    "    U, S, V = LA.svd(reshape)\n",
    "    S = np.diag(S)\n",
    "    \n",
    "    #Calculating the entropy\n",
    "    for i in range(len(S)): #correct range?\n",
    "        entropy = 0\n",
    "        if S[i] < 2e-16: \n",
    "            raise ValueError('Negative value in log encountered!')\n",
    "        entropy += S[i] * np.log(S[i]) #maybe S^2 ??\n",
    "    return - entropy"
   ]
  },
  {
   "cell_type": "markdown",
   "metadata": {},
   "source": [
    "### What happens to the Schmidt rank and the entropy for different values for $\\theta$ ?"
   ]
  },
  {
   "cell_type": "code",
   "execution_count": null,
   "metadata": {
    "collapsed": true
   },
   "outputs": [],
   "source": [
    "#Determining the results for all theta values\n",
    "schmidt_ranks = []\n",
    "entropies = []\n",
    "\n",
    "for theta in range(len(thetaVals)):\n",
    "    #Here: N=3\n",
    "    Psi = states_all[0][theta][:,0] \n",
    "    schmidt_ranks.append(SchmidtRank(Psi))\n",
    "    entropy.append(EntanglementEntropy(Psi))    "
   ]
  },
  {
   "cell_type": "code",
   "execution_count": null,
   "metadata": {
    "collapsed": true
   },
   "outputs": [],
   "source": [
    "#Plotting the results for the Schmidt decomposition\n",
    "plt.plot(thetaVals/np.pi, schmidt_ranks, label= 'Schmidt rank', color = 'darkred')\n",
    "\n",
    "plt.xlabel(r'$\\theta$ [$\\pi$]', size = 20)\n",
    "plt.ylabel(r'Corresponding Schmidt rank', size = 20)\n",
    "plt.title(r'Impact on the Schmidt rank for varying $\\theta$', size = 22)"
   ]
  },
  {
   "cell_type": "code",
   "execution_count": null,
   "metadata": {
    "collapsed": true
   },
   "outputs": [],
   "source": [
    "#Plotting the results for the entropy\n",
    "plt.plot(thetaVals/np.pi, entropies, label= 'Entanglement entropy', color = 'darkred')\n",
    "\n",
    "plt.xlabel(r'$\\theta$ [$\\pi$]', size = 20)\n",
    "plt.ylabel(r'Entanglement entropy', size = 20)\n",
    "plt.title(r'Impact on the Entanglement entropy for varying $\\theta$', size = 22)"
   ]
  },
  {
   "cell_type": "markdown",
   "metadata": {},
   "source": [
    "### Discussion:\n",
    "\n",
    "Hier könnte Ihre Interpretation stehen!"
   ]
  },
  {
   "cell_type": "markdown",
   "metadata": {},
   "source": [
    "### Exercise 3: MPS description (50 points)\n",
    "\n",
    "Finally we will use the MPS machinery and explain why we chose to study the AKLT model (besides the fact that it is a pretty cool model :)). Usually for any given Hamiltonian it is necessary to apply a (complicated) procedure to find a good MPS aproximation for the ground states but the AKLT ground states is special in that it admits an exact MPS description so we can directly apply the tensor network techniques to it! The representation only requires bond dimension 2 and is given by the following 2x2 matrices:\n",
    "$$\n",
    "A_{+1}=\\sqrt{\\frac{2}{3}} \\sigma_+\\\\\n",
    "A_{0}=-\\sqrt{\\frac{1}{3}} \\sigma_z\\\\\n",
    "A_{-1}=-\\sqrt{\\frac{2}{3}} \\sigma_-\\\\\n",
    "$$\n",
    "\n",
    "Show that this really gives the ground state by comparing it to the states you got from exact diagonalization. To do so you should use the expression for MPS ansatz to reconstruct the corresponding state in your basis\n",
    "$$\n",
    "|\\psi_{\\text{mps}}\\rangle = \\sum_{s_i} Tr(A_{s_0}A_{s_1}\\dots A_{s_{N-1}})|s_0 s_1 \\dots s_{N-1}\\rangle\n",
    "$$\n",
    "and compute the overlap $\\langle\\psi_{\\text{ed}}|\\psi_{\\text{mps}}\\rangle$ with the exact diagonalzation ground state. Of course, this is not very smart as we are using our efficiennt MPS representation to reconstruct the inefficient ED representation, but it is a good sanity check nonetheless. \n",
    "\n",
    "You might notice a small deviation on the overlap. This comes from the fact that the MPS state is not normalized and you can see this by computing the norm directly from the matrices:\n",
    "$$\n",
    "\\langle\\psi_{\\text{mps}}|\\psi_{\\text{mps}}\\rangle = Tr(E^n)\n",
    "$$\n",
    "where\n",
    "$$\n",
    "E = \\sum_s A_s\\otimes A_s^*\\\\\n",
    "$$\n",
    "is the local matrix corresponding to the identity operator. To speed up this calculation you can diagonalize E so that you only need to compute powers of the eigenvales and not the actual matrix. Show that the deviation from 1 is small and vanishes exponentially for large systems.\n",
    "\n",
    "Now, for the real benefits of the MPS, let's compute the correlation function $\\langle S_z^{(i)}S_z^{(i+r)}\\rangle$ from exercise 1. This can be done for very large systems by simply replacing two E matrices in the expression for the norm with\n",
    "$$\n",
    "E_z = \\sum_{s,s'}\\langle s|S_z|s'\\rangle A_s\\otimes A_{s'}^*\n",
    "$$\n",
    "which is the local matrix for $S_z$. Think about the correct position where the $E_z$ should go and use this to compute the correlation function. Compare the results to the theoretical prediction mentioned in the first exercise.\n",
    "\n",
    "Optional: The AKLT model has a hidden order that manifests it self through a string operator:\n",
    "$$\n",
    "\\langle S_z^{(i)}\\,\\exp\\left[\\sum_{i<k<j}i \\pi S_z^{(k)}\\right] \\,  S_z^{(j)}\\rangle\n",
    "$$\n",
    "Compute this order parameter and show that it maintains a constant value for $|i-j|>2$"
   ]
  },
  {
   "cell_type": "code",
   "execution_count": null,
   "metadata": {
    "collapsed": true
   },
   "outputs": [],
   "source": []
  }
 ],
 "metadata": {
  "kernelspec": {
   "display_name": "Python 3",
   "language": "python",
   "name": "python3"
  },
  "language_info": {
   "codemirror_mode": {
    "name": "ipython",
    "version": 3
   },
   "file_extension": ".py",
   "mimetype": "text/x-python",
   "name": "python",
   "nbconvert_exporter": "python",
   "pygments_lexer": "ipython3",
   "version": "3.6.3"
  }
 },
 "nbformat": 4,
 "nbformat_minor": 2
}
