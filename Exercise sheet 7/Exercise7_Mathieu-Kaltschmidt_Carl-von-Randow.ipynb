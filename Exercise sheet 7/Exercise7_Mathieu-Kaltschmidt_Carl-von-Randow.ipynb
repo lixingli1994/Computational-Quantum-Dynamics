{
 "cells": [
  {
   "cell_type": "markdown",
   "metadata": {},
   "source": [
    "# Programming exercise 7: Entanglement and the transverse field Ising model\n",
    "\n",
    "Due on Monday, 10.12.2018, 14.15h\n",
    "\n",
    "__This exercise sheet has been solved by:__ Mathieu Kaltschmidt and Carl von Randow\n",
    "\n",
    "### Total: 100 points"
   ]
  },
  {
   "cell_type": "code",
   "execution_count": 145,
   "metadata": {},
   "outputs": [],
   "source": [
    "# load standard libraries\n",
    "import numpy as np \n",
    "from numpy import (array, pi, cos, sin, ones, size, sqrt, real, mod, append, arange, log)\n",
    "\n",
    "import numpy.linalg as LA\n",
    "import matplotlib.pyplot as plt  \n",
    "%matplotlib inline\n",
    "\n",
    "import time as time\n",
    "import scipy.sparse as sparse\n",
    "import scipy.sparse.linalg as sLA\n",
    "\n",
    "#from qutip import (tensor, basis)\n",
    "\n",
    "#Plot settings\n",
    "plt.style.use('seaborn-talk')\n",
    "plt.rcParams[\"font.family\"]='serif'"
   ]
  },
  {
   "cell_type": "markdown",
   "metadata": {},
   "source": [
    "### Exercise 1: Building general spin 1/2 Hamiltonians (50 points)\n",
    "\n",
    "In the past exercises we have worked with the collective Ising model, where we could use the permutation symmetry to reduce the Hilbert space dimension from $2^N$ to $N+1$. This time we want to consider a model with nearest neighbor spin interactions, the one-dimensional transverse-field Ising model (TFIM), where the permutation symmetry no longer holds. This model is analytically solvable (see e.g. https://www.sciencedirect.com/science/article/pii/0003491670902708). For the sake of learning how to build general spin models, we will solve it here by numerical means and compare the result to the exact solution as a check. The tools you develop here, you can then apply to build any spin Hamiltonian straight forwardly. The Hamiltonian of the TFIM reads\n",
    "$$\n",
    "H=\\sum_{i=0}^{N-1} -J\\sigma_z^{(i)}\\sigma_z^{(i+1)} - B \\sigma_x^{(i)}\n",
    "$$\n",
    "where we want to use periodic boundary conditions, i.e. the Nth spin is identified with the 0th spin.\n",
    "\n",
    "To solve it we first set up a framework for general spin 1/2 models.\n",
    "We will work in the canonical product basis of states $|i_1,...,i_N\\rangle$, where $i_k \\in {0,1}$. This basis of course has the problem of exponential scaling of the number of basis states with particle number N. But we still want to use it to keep our approach as general as possible, which then just allows us to use up to 12 or so spins with reasonable computation time.\n",
    "\n",
    "The recipe for conctructing general spin models is the following:\n",
    "\n",
    "1) Build the single-spin operators $s_x$, $s_y$, $s_z$, and the 2x2 identity, $\\mathbb{1}$ as sparse matrices (csr_matrix should work best).\n",
    "\n",
    "2) Build a list of all single-spin operators acting on spin $i=0...N-1$ in the $N$-spin Hilbert space.\n",
    "$$\n",
    "s_\\alpha^{(i)} = \\mathbb{1}^{\\otimes i}\\otimes s_\\alpha \\otimes \\mathbb{1}^{\\otimes (N-i-1)}\n",
    "$$\n",
    "where $\\alpha \\in \\{x,y,z\\}$. Use the kronecker product for sparse matrices to do this. (Make sure you understand how the indexing/ordering of the matrix elements is done by kron()!)\n",
    "\n",
    "3) Build any hermititian operator (here we want the Hamiltonian) by adding up its individual terms, using the dot product for interaction terms.\n",
    "\n",
    "Test your implementation by calculating the ground state energy of the transverse field Ising model and comparing it to the analytical result (for even $N$)\n",
    "$$\n",
    "E_0^{analyt} = -\\sum_{k=-(N-1)/2}^{(N-1)/2}\\sqrt{1+B^2 - 2B\\cos(2\\pi k/N)}\n",
    "$$\n",
    "where the convention $J=1$ was chosen.\n",
    "For N=10, scan $B$ from 0 to 2 and plot the numerical and analytical result for the ground state energy.\n",
    "\n",
    "Also think about what the ground state should be at large $B$ and at $B=0$. "
   ]
  },
  {
   "cell_type": "markdown",
   "metadata": {},
   "source": [
    "### Solution:\n",
    "\n",
    "#### First part of the exercise"
   ]
  },
  {
   "cell_type": "code",
   "execution_count": 146,
   "metadata": {
    "collapsed": true
   },
   "outputs": [],
   "source": [
    "#Predefinded values \n",
    "(J, N, hbar) = (1, 10, 1)\n",
    "\n",
    "Bvals = np.linspace(0, 2, 30)"
   ]
  },
  {
   "cell_type": "code",
   "execution_count": 147,
   "metadata": {
    "collapsed": true
   },
   "outputs": [],
   "source": [
    "#Implementation of the spin matrices as  csr-sparse matrices in order Sx, Sy, Sz\n",
    "SpinMatrices = [sparse.csr_matrix((hbar/2)*np.array([[0, 1]  ,[ 1, 0]])),    \n",
    "                sparse.csr_matrix((hbar/2)*np.array([[0, -1j],[1j, 0]])),    \n",
    "                sparse.csr_matrix((hbar/2)*np.array([[1, 0]  ,[0, -1]]))]\n",
    "\n",
    "#2x2-Identity matrix as sparse matrix\n",
    "Id = sparse.identity(2, format='csr') "
   ]
  },
  {
   "cell_type": "markdown",
   "metadata": {},
   "source": [
    "#### Second part of the exercise"
   ]
  },
  {
   "cell_type": "code",
   "execution_count": 148,
   "metadata": {
    "collapsed": true
   },
   "outputs": [],
   "source": [
    "#Constructing the single spin operator as explained in the exercise\n",
    "def SingleSpinOperator(N,alpha,index):\n",
    "    if index == 0:\n",
    "        res = SpinMatrices[alpha]\n",
    "    else:\n",
    "        res = Id\n",
    "    \n",
    "    for SpinNum in range(1,N):\n",
    "        if index == SpinNum:\n",
    "            res = sparse.kron(res, SpinMatrices[alpha])\n",
    "        else:\n",
    "            res = sparse.kron(res, Id)          \n",
    "    return res"
   ]
  },
  {
   "cell_type": "markdown",
   "metadata": {},
   "source": [
    "#### Third part of the exercise"
   ]
  },
  {
   "cell_type": "code",
   "execution_count": 149,
   "metadata": {
    "collapsed": true
   },
   "outputs": [],
   "source": [
    "#building the Hamiltonian for this problem\n",
    "def buildHmat(N,B):\n",
    "    #Initialization as 2^N x 2^N matrix\n",
    "    Hamiltonian = np.zeros((2**N,2**N))\n",
    "    for i in range(N):\n",
    "        Hamiltonian += -J * SingleSpinOperator(N,2,i)@SingleSpinOperator(N,2,i+1) - B * SingleSpinOperator(N,0,i)\n",
    "    return Hamiltonian"
   ]
  },
  {
   "cell_type": "code",
   "execution_count": 150,
   "metadata": {
    "collapsed": true
   },
   "outputs": [],
   "source": [
    "#Analytical solution for the ground state energy for the transverse field Ising model\n",
    "def TFIM_analytical(N, B, timer = False):\n",
    "    if N%2==1:\n",
    "        raise ValueError('This method only works for even N! Try it again.')\n",
    "        \n",
    "    #Initialization\n",
    "    energy = 0\n",
    "    \n",
    "    #Extracting the computation time for further analysis \n",
    "    t1 = time.time()\n",
    "    for k in range(-int((N-1)/2), int((N-1)/2)):\n",
    "        energy += sqrt(1 + B**2 - 2*B*cos(2*pi*k/N))\n",
    "    t2 = time.time()\n",
    "    \n",
    "    if timer:\n",
    "        runtime = t2-t1\n",
    "        print('The computation time was ', runtime, ' seconds')\n",
    "        return -energy, runtime\n",
    "    else: \n",
    "        return -energy"
   ]
  },
  {
   "cell_type": "code",
   "execution_count": 151,
   "metadata": {
    "collapsed": true
   },
   "outputs": [],
   "source": [
    "#Numerical computation \n",
    "def TFIM_numerical(N, B, timer = False):\n",
    "    \n",
    "    t1 = time.time()\n",
    "    H = buildHmat(N, B)\n",
    "    evals, evecs = sLA.eigs(H, 1, which = 'SR' )\n",
    "    t2 = time.time()\n",
    "    \n",
    "    if timer:\n",
    "        runtime = t2-t1\n",
    "        print('The computation time was ', runtime, ' seconds')\n",
    "        return evals[0].real, runtime\n",
    "    else:\n",
    "        return evals[0].real"
   ]
  },
  {
   "cell_type": "code",
   "execution_count": 152,
   "metadata": {
    "collapsed": true
   },
   "outputs": [],
   "source": [
    "#Storing all the energies and the corresponding runtimes (if they were computed)\n",
    "def StoreResults(N, B, runtimes = False):\n",
    "    if runtimes:\n",
    "        results  = np.zeros((len(B), 4))\n",
    "        for i in range(len(B)):\n",
    "            results[i,0]=TFIM_analytical(N,B[i])[0]\n",
    "            results[i,1]=TFIM_numerical(N,B[i])[0]\n",
    "            results[i,2]=TFIM_analytical(N,B[i])[1]\n",
    "            results[i,3]=TFIM_numerical(N,B[i])[1]\n",
    "        return results\n",
    "    else:\n",
    "        results  = np.zeros((len(B), 2))\n",
    "        for i in range(len(B)):\n",
    "            results[i,0]=TFIM_analytical(N,B[i])\n",
    "            results[i,1]=TFIM_numerical(N,B[i])\n",
    "        return results"
   ]
  },
  {
   "cell_type": "code",
   "execution_count": 153,
   "metadata": {},
   "outputs": [
    {
     "data": {
      "text/plain": [
       "<matplotlib.legend.Legend at 0x115db1e48>"
      ]
     },
     "execution_count": 153,
     "metadata": {},
     "output_type": "execute_result"
    },
    {
     "data": {
      "image/png": "[encoded data removed]",
      "text/plain": [
       "<Figure size 748.8x514.8 with 1 Axes>"
      ]
     },
     "metadata": {},
     "output_type": "display_data"
    }
   ],
   "source": [
    "#Plotting the results\n",
    "results = StoreResults(10,Bvals)\n",
    "\n",
    "plt.plot(Bvals, results[:,1],label='Numerical Solution', color = 'darkred', ls = 'dashed')\n",
    "plt.plot(Bvals, results[:,0],label='Analytical Solution', color = 'teal')\n",
    "\n",
    "plt.xlabel('B')\n",
    "plt.ylabel('Ground state energy $E_0$')\n",
    "plt.title('Numerical and Analytical ground state energy comparison')\n",
    "plt.legend(fontsize='large', borderpad=1.5, borderaxespad=1.5)"
   ]
  },
  {
   "cell_type": "markdown",
   "metadata": {},
   "source": [
    "### Discussion:\n",
    "\n",
    "Hier könnte ihre Interpretation stehen!"
   ]
  },
  {
   "cell_type": "markdown",
   "metadata": {},
   "source": [
    "### Exercise 2: Taking partial traces (50 points)\n",
    "\n",
    "The TFIM has a quantum phase transition at $B/J=1$ from a ferromagnetic to a paramagnetic phase. You can use your code from exercise 1 to see that the gap is mimimal around this value. Note that the model also has the $Z_2$ symmetry (invariance under flipping of all spins) which we saw in the collective Ising model, so you would look at the gap of ground and second excited state.\n",
    "At the phase transition point, long-range correlations emerge in the ground state. An interesting feature is also that at the critical point the half-chain entanglement entropy diverges logarithmically as $N$ goes to infinity (see for example https://arxiv.org/abs/0803.3610 Fig. 3). For finite $N$ we should already see that the entanglement entropy becomes maximal approximately at the critical point.\n",
    "\n",
    "To calculate the half-chain entanglement entropy in the ground state of the transverse Ising chain, you should proceed as follows:\n",
    "\n",
    "1) Divide the chain into two halves and calculate the reduced state of one half, i.e., calculate the partial trace over the first or the last $N/2$ spins. The matrix element of the reduced density of a state $|\\psi\\rangle = \\sum_i c_i |i\\rangle$ (where $|i\\rangle$ are the $N$-spin basis states) traced over spins $N/2$ thorugh $N-1$, i.e. over the second half, can be expressed as\n",
    "$$\n",
    "(\\rho_{red,N/2})_{ij} = \\sum_{k=0}^{2^{N/2}-1} c_{i+k*2^{N/2}}c_{j+k*2^{N/2}}\n",
    "$$\n",
    "(This might look different depending on how the states are ordered in your basis.)\n",
    "\n",
    "2) Calculate the eigenvalues $p_i$ of $\\rho_{red,N/2}$, sort them from largest to smallest. This is the entanglement spectrum. The rank of $\\rho_{red,N/2}$ is called entanglement dimension. For a separable state the entanglement dimension is 1, i.e. only one eigenvalue is non-zero.\n",
    "\n",
    "3) Calculate the von-Neumann entanglement entropy $S_E = -\\sum_i p_i \\log(p_i)$. Consider that some of the eigenvalues can be zero. Due to the finite numerical precision they can even turn negative. These you want to exclude from the sum. (The limit $\\lim_{p\\rightarrow 0} p\\log(p) =0$ so we are not actually modifying the outcome significantly by neglecting small p's.)\n",
    "\n",
    "Test your code for some cases where you know the answer, for example a separable state or a Bell pair state of 2 qubits. The qutip module also has the capability of calculating partial traces. If you are interested you can compare to this for testing.\n",
    "\n",
    "Then calcualte the entanglement spectrum and entropy for the same parameter scan as in exercise 1. Document your observations."
   ]
  },
  {
   "cell_type": "markdown",
   "metadata": {},
   "source": [
    "### Solution:\n",
    "\n",
    "#### First part of the exercise"
   ]
  },
  {
   "cell_type": "code",
   "execution_count": 162,
   "metadata": {
    "collapsed": true
   },
   "outputs": [],
   "source": [
    "c = np.ones(2**N)\n",
    "\n",
    "def rho_red_ij(i, j, c, N): #oder c_i statt c?\n",
    "    res = 0\n",
    "    for k in range(int(2**(N/2))):\n",
    "        res += c[int(i + k * 2**(N/2))] * c[int(j + k * 2**(N/2))]\n",
    "        \n",
    "    return res\n",
    "    \n",
    "def trace(c, N):\n",
    "    tr = 0\n",
    "    for index in range(N):\n",
    "        tr += rho_red_ij(index, index, c, N)\n",
    "    \n",
    "    return tr\n"
   ]
  },
  {
   "cell_type": "markdown",
   "metadata": {},
   "source": [
    "#### Second part of the exercise"
   ]
  },
  {
   "cell_type": "code",
   "execution_count": 176,
   "metadata": {},
   "outputs": [
    {
     "name": "stdout",
     "output_type": "stream",
     "text": [
      "The entanglement spectrum for our system has the following eigenvalues:\n",
      "[320.0, 6.2706094851586952e-47, 2.2761874912411092e-47, 0.0, 0.0, -3.5036286717186694e-46]\n"
     ]
    }
   ],
   "source": [
    "rho_red = np.array([ np.array([rho_red_ij(i, j, c, N) for i in range(N) ]) for j in range(N)])\n",
    "\n",
    "#Calculating the eigenvalues of rho_red\n",
    "evals, evecs = sLA.eigs(rho_red)\n",
    "evals = sorted(evals.real)[::-1]\n",
    "print('The entanglement spectrum for our system has the following eigenvalues:')\n",
    "print(evals)"
   ]
  },
  {
   "cell_type": "markdown",
   "metadata": {},
   "source": [
    "#### Third part of the exercise"
   ]
  },
  {
   "cell_type": "code",
   "execution_count": null,
   "metadata": {
    "collapsed": true
   },
   "outputs": [],
   "source": [
    "#Definition of the von-Neumann entanglement entropy\n",
    "def entanglement_entropy(p):\n",
    "    result = 0\n",
    "    for i in range(len(p)):\n",
    "        if p[i] != 0:\n",
    "            result += p[i] * log(p[i])\n",
    "    return -result"
   ]
  },
  {
   "cell_type": "code",
   "execution_count": 165,
   "metadata": {},
   "outputs": [
    {
     "data": {
      "text/plain": [
       "-1845.8627186540073"
      ]
     },
     "execution_count": 165,
     "metadata": {},
     "output_type": "execute_result"
    }
   ],
   "source": [
    "entanglement_entropy(evals.real)"
   ]
  },
  {
   "cell_type": "code",
   "execution_count": null,
   "metadata": {
    "collapsed": true
   },
   "outputs": [],
   "source": []
  }
 ],
 "metadata": {
  "kernelspec": {
   "display_name": "Python 3",
   "language": "python",
   "name": "python3"
  },
  "language_info": {
   "codemirror_mode": {
    "name": "ipython",
    "version": 3
   },
   "file_extension": ".py",
   "mimetype": "text/x-python",
   "name": "python",
   "nbconvert_exporter": "python",
   "pygments_lexer": "ipython3",
   "version": "3.6.3"
  }
 },
 "nbformat": 4,
 "nbformat_minor": 2
}
